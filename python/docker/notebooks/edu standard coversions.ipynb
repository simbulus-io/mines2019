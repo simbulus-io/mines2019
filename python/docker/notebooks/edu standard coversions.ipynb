{
 "cells": [
  {
   "cell_type": "markdown",
   "metadata": {},
   "source": [
    "converting EngageNY standard (string) to ecs_code (string; found in ccssm.stds.*.yaml under edu/ruby/scripts/content/std_data/common_core/)"
   ]
  },
  {
   "cell_type": "code",
   "execution_count": 2,
   "metadata": {},
   "outputs": [
    {
     "name": "stdout",
     "output_type": "stream",
     "text": [
      "['1.G.1', '1.MD.1', '1.NBT.1', '1.NBT.2.a', '1.NBT.3', '1.OA.1', '2.G.1', '2.MD.10', '2.NBT.1.a', '3.MD.5.a', '3.NF.3.d', '6.EE.2', '6.EE.2.a', '6.RP.3.a', 'A.APR.4', 'A.REI.10', 'A.SSE.1.b', 'F.BF.1.b', 'F.IF.3', 'F.LE.1.c', 'F.TF.6', 'G.C.2', 'G.CO.11', 'G.GMD.3', 'G.GPE.5', 'K.CC.6', 'K.CC.4.d', 'N.CN.1', 'N.VM.4.c', 'S.CP.6', 'S.ID.6.a', 'S.MD.5.b']\n"
     ]
    }
   ],
   "source": [
    "import csv\n",
    "\n",
    "my_csv_list = []\n",
    "with open(\"example_csv.csv\") as csv_file:\n",
    "    csv_reader = csv.reader(csv_file, delimiter=',')\n",
    "    # this makes one list of all of the rows (example file is one row csv)\n",
    "    # might want list of lists, then just call converter on each list within outer list\n",
    "    for row in csv_reader:\n",
    "        my_csv_list = my_csv_list + row\n",
    "        \n",
    "print(my_csv_list)"
   ]
  },
  {
   "cell_type": "code",
   "execution_count": 3,
   "metadata": {},
   "outputs": [
    {
     "name": "stdout",
     "output_type": "stream",
     "text": [
      "1.G.1 -> MA.1.G.1\n",
      "1.MD.1 -> MA.1.MD.1\n",
      "1.NBT.1 -> MA.1.NBT.1\n",
      "1.NBT.2.a -> MA.1.NBT.2a\n",
      "1.NBT.3 -> MA.1.NBT.3\n",
      "1.OA.1 -> MA.1.OA.1\n",
      "2.G.1 -> MA.2.G.1\n",
      "2.MD.10 -> MA.2.MD.10\n",
      "2.NBT.1.a -> MA.2.NBT.1a\n",
      "3.MD.5.a -> MA.3.MD.5a\n",
      "3.NF.3.d -> MA.3.NF.3d\n",
      "6.EE.2 -> MA.6.EE.2\n",
      "6.EE.2.a -> MA.6.EE.2a\n",
      "6.RP.3.a -> MA.6.RP.3a\n",
      "A.APR.4 -> MA.A.APR.4\n",
      "A.REI.10 -> MA.A.REI.10\n",
      "A.SSE.1.b -> MA.A.SSE.1b\n",
      "F.BF.1.b -> MA.F.BF.1b\n",
      "F.IF.3 -> MA.F.IF.3\n",
      "F.LE.1.c -> MA.F.LE.1c\n",
      "F.TF.6 -> MA.F.TF.6\n",
      "G.C.2 -> MA.G.C.2\n",
      "G.CO.11 -> MA.G.CO.11\n",
      "G.GMD.3 -> MA.G.GMD.3\n",
      "G.GPE.5 -> MA.G.GPE.5\n",
      "K.CC.6 -> MA.K.CC.6\n",
      "K.CC.4.d -> MA.K.CC.4d\n",
      "N.CN.1 -> MA.N.CN.1\n",
      "N.VM.4.c -> MA.N.VM.4c\n",
      "S.CP.6 -> MA.S.CP.6\n",
      "S.ID.6.a -> MA.S.ID.6a\n",
      "S.MD.5.b -> MA.S.MD.5b\n",
      "\n",
      "MA.1.G.1\n",
      "MA.1.MD.1\n",
      "MA.1.NBT.1\n",
      "MA.1.NBT.2a\n",
      "MA.1.NBT.3\n",
      "MA.1.OA.1\n",
      "MA.2.G.1\n",
      "MA.2.MD.10\n",
      "MA.2.NBT.1a\n",
      "MA.3.MD.5a\n",
      "MA.3.NF.3d\n",
      "MA.6.EE.2\n",
      "MA.6.EE.2a\n",
      "MA.6.RP.3a\n",
      "MA.A.APR.4\n",
      "MA.A.REI.10\n",
      "MA.A.SSE.1b\n",
      "MA.F.BF.1b\n",
      "MA.F.IF.3\n",
      "MA.F.LE.1c\n",
      "MA.F.TF.6\n",
      "MA.G.C.2\n",
      "MA.G.CO.11\n",
      "MA.G.GMD.3\n",
      "MA.G.GPE.5\n",
      "MA.K.CC.6\n",
      "MA.K.CC.4d\n",
      "MA.N.CN.1\n",
      "MA.N.VM.4c\n",
      "MA.S.CP.6\n",
      "MA.S.ID.6a\n",
      "MA.S.MD.5b\n"
     ]
    }
   ],
   "source": [
    "def convert_engageny_standards( engageny_standards ):\n",
    "    ecs_standards = []\n",
    "    for engageny_standard in engageny_standards:\n",
    "        ecs_standard = \"MA.\" + engageny_standard\n",
    "        # see if standard has a letter at the end (ex. G.SRT.1.a)\n",
    "        # period check might be unnecessary\n",
    "        if ecs_standard[-2:-1] == \".\" and ecs_standard[-1:].isalpha():\n",
    "            period_index = len(ecs_standard)-2\n",
    "            ecs_standard = ecs_standard[:period_index] + ecs_standard[period_index+1:]\n",
    "        ecs_standards.append(ecs_standard)\n",
    "    return ecs_standards\n",
    "# end function convert_engageny_standards definition\n",
    "\n",
    "# testing the function convert_engageny_standards\n",
    "\n",
    "engageny_standards = [\"1.G.1\", \"1.MD.1\", \"1.NBT.1\", \"1.NBT.2.a\", \"1.NBT.3\", \"1.OA.1\", \"2.G.1\",\"2.MD.10\", \"2.NBT.1.a\",\n",
    "                     \"3.MD.5.a\", \"3.NF.3.d\",\"6.EE.2\",\"6.EE.2.a\",\"6.RP.3.a\",\"A.APR.4\",\"A.REI.10\",\"A.SSE.1.b\",\"F.BF.1.b\",\n",
    "                     \"F.IF.3\", \"F.LE.1.c\", \"F.TF.6\", \"G.C.2\", \"G.CO.11\", \"G.GMD.3\", \"G.GPE.5\", \"K.CC.6\", \"K.CC.4.d\",\n",
    "                     \"N.CN.1\", \"N.VM.4.c\", \"S.CP.6\", \"S.ID.6.a\", \"S.MD.5.b\"]\n",
    "\n",
    "# ecs_standards = convert_engageny_standards( engageny_standards )\n",
    "\n",
    "ecs_standards = convert_engageny_standards( my_csv_list )\n",
    "    \n",
    "for engage, ecs in zip(engageny_standards, ecs_standards):\n",
    "    print(engage+\" -> \"+ecs)\n",
    "    \n",
    "print(\"\")\n",
    "\n",
    "for ecs_standard in ecs_standards:\n",
    "    print(ecs_standard)"
   ]
  },
  {
   "cell_type": "markdown",
   "metadata": {},
   "source": [
    "-> MA.K.CC.4d doesn't exist (no corresponding standard in CCSSM)\n",
    "-> all other standards passed (converted string exists in yamls)"
   ]
  }
 ],
 "metadata": {
  "kernelspec": {
   "display_name": "Python 3",
   "language": "python",
   "name": "python3"
  },
  "language_info": {
   "codemirror_mode": {
    "name": "ipython",
    "version": 3
   },
   "file_extension": ".py",
   "mimetype": "text/x-python",
   "name": "python",
   "nbconvert_exporter": "python",
   "pygments_lexer": "ipython3",
   "version": "3.7.3"
  }
 },
 "nbformat": 4,
 "nbformat_minor": 2
}
